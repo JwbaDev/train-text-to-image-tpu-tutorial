{
  "nbformat": 4,
  "nbformat_minor": 0,
  "metadata": {
    "colab": {
      "provenance": []
    },
    "kernelspec": {
      "name": "python3",
      "display_name": "Python 3"
    },
    "language_info": {
      "name": "python"
    }
  },
  "cells": [
    {
      "cell_type": "markdown",
      "metadata": {
        "id": "view-in-github"
      },
      "source": [
        "[![Open In Colab](https://colab.research.google.com/assets/colab-badge.svg)](https://colab.research.google.com/github/camenduru/train-text-to-image-tpu-tutorial/blob/main/prepare_dataset_colab.ipynb)"
      ]
    },
    {
      "cell_type": "markdown",
      "source": [
        "`create test.txt and copy 🍝 this html inside`\n",
        "```html\n",
        "<img src=\"https://cdn.pixabay.com/photo/2016/11/29/11/58/animal-1869339_960_720.jpg\" alt=\"cat\">\n",
        "<img src=\"https://cdn.pixabay.com/photo/2017/05/15/09/59/cat-2314325_960_720.jpg\" alt=\"cat\">\n",
        "<img src=\"https://cdn.pixabay.com/photo/2017/05/22/07/40/cat-2333413_960_720.jpg\" alt=\"cat\">\n",
        "<img src=\"https://cdn.pixabay.com/photo/2018/11/09/18/52/cat-3805250_960_720.jpg\" alt=\"cat\">\n",
        "<img src=\"https://cdn.pixabay.com/photo/2015/10/05/14/05/cat-972655_960_720.jpg\" alt=\"cat\">\n",
        "<img src=\"https://cdn.pixabay.com/photo/2018/03/04/22/37/cat-3199463_960_720.jpg\" alt=\"cat\">\n",
        "<img src=\"https://cdn.pixabay.com/photo/2017/08/16/20/16/yellow-cat-2649033_960_720.jpg\" alt=\"cat\">\n",
        "<img src=\"https://cdn.pixabay.com/photo/2018/12/11/09/31/lovely-3868695_960_720.jpg\" alt=\"cat\">\n",
        "```\n",
        "\n"
      ],
      "metadata": {
        "id": "3QARKc9y2c8e"
      }
    },
    {
      "cell_type": "code",
      "source": [
        "!pip install datasets bs4"
      ],
      "metadata": {
        "id": "FvYV6MbSdf40"
      },
      "execution_count": null,
      "outputs": []
    },
    {
      "cell_type": "code",
      "source": [
        "from huggingface_hub import notebook_login\n",
        "!git config --global credential.helper store\n",
        "notebook_login()"
      ],
      "metadata": {
        "id": "i3s_ZLPUdk9a"
      },
      "execution_count": null,
      "outputs": []
    },
    {
      "cell_type": "code",
      "source": [
        "!mkdir test"
      ],
      "metadata": {
        "id": "e8ZYugchdl_w"
      },
      "execution_count": null,
      "outputs": []
    },
    {
      "cell_type": "code",
      "source": [
        "import urllib.request, requests\n",
        "from bs4 import BeautifulSoup\n",
        "\n",
        "with open('/content/test.txt') as html:\n",
        "    content = html.read()\n",
        "\n",
        "soup = BeautifulSoup(content)\n",
        "for imgtag in soup.find_all('img'):\n",
        "  url=imgtag['src']\n",
        "  name = url.split('/')[-1]\n",
        "  headers={'user-agent': 'Mozilla/5.0'}\n",
        "  r=requests.get(url, headers=headers)\n",
        "  with open(f\"/content/test/{name}\", 'wb') as f:\n",
        "      f.write(r.content)"
      ],
      "metadata": {
        "id": "AndErT11dneF"
      },
      "execution_count": null,
      "outputs": []
    },
    {
      "cell_type": "code",
      "source": [
        "from datasets import load_dataset, Dataset, Image\n",
        "\n",
        "with open('/content/test.txt') as html:\n",
        "  content = html.read()\n",
        "\n",
        "texts = []\n",
        "images = []\n",
        "soup = BeautifulSoup(content)\n",
        "for imgtag in soup.find_all('img'):\n",
        "  texts.append(imgtag['alt'])\n",
        "  images.append(f\"/content/test/{imgtag['src'].split('/')[-1]}\")\n",
        "  \n",
        "ds = Dataset.from_dict({\"image\": images, \"text\": texts})\n",
        "ds = ds.cast_column(\"image\", Image())"
      ],
      "metadata": {
        "id": "TaDtKFqCdo4b"
      },
      "execution_count": null,
      "outputs": []
    },
    {
      "cell_type": "code",
      "source": [
        "ds.push_to_hub(\"camenduru/test\")"
      ],
      "metadata": {
        "id": "1AgjVY1pdqH5"
      },
      "execution_count": null,
      "outputs": []
    }
  ]
}

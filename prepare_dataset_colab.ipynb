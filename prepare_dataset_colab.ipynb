{
  "cells": [
    {
      "cell_type": "markdown",
      "metadata": {
        "id": "view-in-github"
      },
      "source": [
        "[![Open In Colab](https://colab.research.google.com/assets/colab-badge.svg)](https://colab.research.google.com/github/camenduru/train-text-to-image-tpu-tutorial/blob/main/prepare_dataset_colab.ipynb)"
      ]
    },
    {
      "cell_type": "markdown",
      "metadata": {
        "id": "3QARKc9y2c8e"
      },
      "source": [
        "`create test.txt and copy 🍝 this html inside`\n",
        "```html\n",
        "<img src=\"https://cdn.pixabay.com/photo/2016/11/29/11/58/animal-1869339_960_720.jpg\" alt=\"cat\">\n",
        "<img src=\"https://cdn.pixabay.com/photo/2017/05/15/09/59/cat-2314325_960_720.jpg\" alt=\"cat\">\n",
        "<img src=\"https://cdn.pixabay.com/photo/2017/05/22/07/40/cat-2333413_960_720.jpg\" alt=\"cat\">\n",
        "<img src=\"https://cdn.pixabay.com/photo/2018/11/09/18/52/cat-3805250_960_720.jpg\" alt=\"cat\">\n",
        "<img src=\"https://cdn.pixabay.com/photo/2015/10/05/14/05/cat-972655_960_720.jpg\" alt=\"cat\">\n",
        "<img src=\"https://cdn.pixabay.com/photo/2018/03/04/22/37/cat-3199463_960_720.jpg\" alt=\"cat\">\n",
        "<img src=\"https://cdn.pixabay.com/photo/2017/08/16/20/16/yellow-cat-2649033_960_720.jpg\" alt=\"cat\">\n",
        "<img src=\"https://cdn.pixabay.com/photo/2018/12/11/09/31/lovely-3868695_960_720.jpg\" alt=\"cat\">\n",
        "```\n",
        "\n"
      ]
    },
    {
      "cell_type": "code",
      "execution_count": null,
      "metadata": {
        "id": "FvYV6MbSdf40"
      },
      "outputs": [],
      "source": [
        "!pip install datasets bs4"
      ]
    },
    {
      "cell_type": "code",
      "execution_count": null,
      "metadata": {
        "id": "i3s_ZLPUdk9a"
      },
      "outputs": [],
      "source": [
        "from huggingface_hub import notebook_login\n",
        "!git config --global credential.helper store\n",
        "notebook_login()"
      ]
    },
    {
      "cell_type": "code",
      "execution_count": null,
      "metadata": {
        "id": "e8ZYugchdl_w"
      },
      "outputs": [],
      "source": [
        "!mkdir test"
      ]
    },
    {
      "cell_type": "code",
      "execution_count": null,
      "metadata": {
        "id": "AndErT11dneF"
      },
      "outputs": [],
      "source": [
        "import urllib.request, requests\n",
        "from bs4 import BeautifulSoup\n",
        "\n",
        "with open('/content/test.txt') as html:\n",
        "    content = html.read()\n",
        "\n",
        "soup = BeautifulSoup(content)\n",
        "for imgtag in soup.find_all('img'):\n",
        "  url=imgtag['src']\n",
        "  name = url.split('/')[-1]\n",
        "  headers={'user-agent': 'Mozilla/5.0'}\n",
        "  r=requests.get(url, headers=headers)\n",
        "  with open(f\"/content/test/{name}\", 'wb') as f:\n",
        "      f.write(r.content)"
      ]
    },
    {
      "cell_type": "code",
      "execution_count": null,
      "metadata": {
        "id": "TaDtKFqCdo4b"
      },
      "outputs": [],
      "source": [
        "from datasets import load_dataset, Dataset, Image\n",
        "\n",
        "with open('/content/test.txt') as html:\n",
        "  content = html.read()\n",
        "\n",
        "texts = []\n",
        "images = []\n",
        "soup = BeautifulSoup(content)\n",
        "for imgtag in soup.find_all('img'):\n",
        "  texts.append(imgtag['alt'])\n",
        "  images.append(f\"/content/test/{imgtag['src'].split('/')[-1]}\")\n",
        "  \n",
        "ds = Dataset.from_dict({\"image\": images, \"text\": texts})\n",
        "ds = ds.cast_column(\"image\", Image())"
      ]
    },
    {
      "cell_type": "code",
      "execution_count": null,
      "metadata": {
        "id": "1AgjVY1pdqH5"
      },
      "outputs": [],
      "source": [
        "ds.push_to_hub(\"camenduru/test\")"
      ]
    },
    {
      "cell_type": "code",
      "execution_count": null,
      "metadata": {},
      "outputs": [],
      "source": [
        "# for unzipped images\n",
        "import os\n",
        "directory = '/content/images'\n",
        "image_list = []\n",
        "for subdir in os.listdir(directory):\n",
        "    subdir_path = os.path.join(directory, subdir)\n",
        "    if os.path.isdir(subdir_path):\n",
        "        for filename in os.listdir(subdir_path):\n",
        "            if filename.endswith(('.jpg', '.jpeg', '.png', '.gif')):\n",
        "                image_list.append(f'<img src=\"/content/images/{subdir}/{filename}\" alt=\"{subdir}\">')\n",
        "output_file = 'image_list.txt'\n",
        "with open(output_file, 'w') as f:\n",
        "    for image_tag in image_list:\n",
        "        f.write(image_tag + '\\n')"
      ]
    }
  ],
  "metadata": {
    "colab": {
      "provenance": []
    },
    "kernelspec": {
      "display_name": "Python 3",
      "name": "python3"
    },
    "language_info": {
      "name": "python"
    }
  },
  "nbformat": 4,
  "nbformat_minor": 0
}
